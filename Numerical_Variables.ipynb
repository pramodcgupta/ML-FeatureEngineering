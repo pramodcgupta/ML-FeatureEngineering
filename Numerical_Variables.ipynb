{
 "cells": [
  {
   "cell_type": "markdown",
   "metadata": {},
   "source": [
    "# Handling Numerical Variables"
   ]
  },
  {
   "cell_type": "code",
   "execution_count": 1,
   "metadata": {},
   "outputs": [],
   "source": [
    "#------------------------------------------------------------------------------------\n",
    "# Pramodkumar Gupta\n",
    "# Handing Numerical Features\n",
    "#------------------------------------------------------------------------------------\n",
    "\n",
    "# Import all libraries\n",
    "import pandas as pd\n",
    "import matplotlib.pyplot as plt\n",
    "import numpy as np\n"
   ]
  },
  {
   "cell_type": "code",
   "execution_count": 2,
   "metadata": {},
   "outputs": [
    {
     "data": {
      "text/html": [
       "<div>\n",
       "<style scoped>\n",
       "    .dataframe tbody tr th:only-of-type {\n",
       "        vertical-align: middle;\n",
       "    }\n",
       "\n",
       "    .dataframe tbody tr th {\n",
       "        vertical-align: top;\n",
       "    }\n",
       "\n",
       "    .dataframe thead th {\n",
       "        text-align: right;\n",
       "    }\n",
       "</style>\n",
       "<table border=\"1\" class=\"dataframe\">\n",
       "  <thead>\n",
       "    <tr style=\"text-align: right;\">\n",
       "      <th></th>\n",
       "      <th>loan_amnt</th>\n",
       "      <th>int_rate</th>\n",
       "      <th>annual_inc</th>\n",
       "      <th>loan_status</th>\n",
       "      <th>open_acc</th>\n",
       "      <th>open_il_12m</th>\n",
       "    </tr>\n",
       "  </thead>\n",
       "  <tbody>\n",
       "    <tr>\n",
       "      <td>70642</td>\n",
       "      <td>12000</td>\n",
       "      <td>10.33</td>\n",
       "      <td>115000.0</td>\n",
       "      <td>Current</td>\n",
       "      <td>10.0</td>\n",
       "      <td>2.0</td>\n",
       "    </tr>\n",
       "    <tr>\n",
       "      <td>490788</td>\n",
       "      <td>20000</td>\n",
       "      <td>11.99</td>\n",
       "      <td>19200.0</td>\n",
       "      <td>Current</td>\n",
       "      <td>9.0</td>\n",
       "      <td>0.0</td>\n",
       "    </tr>\n",
       "    <tr>\n",
       "      <td>2081591</td>\n",
       "      <td>35000</td>\n",
       "      <td>18.25</td>\n",
       "      <td>153619.0</td>\n",
       "      <td>Charged Off</td>\n",
       "      <td>27.0</td>\n",
       "      <td>NaN</td>\n",
       "    </tr>\n",
       "    <tr>\n",
       "      <td>900431</td>\n",
       "      <td>8000</td>\n",
       "      <td>7.99</td>\n",
       "      <td>67000.0</td>\n",
       "      <td>Fully Paid</td>\n",
       "      <td>10.0</td>\n",
       "      <td>1.0</td>\n",
       "    </tr>\n",
       "    <tr>\n",
       "      <td>781582</td>\n",
       "      <td>17000</td>\n",
       "      <td>9.16</td>\n",
       "      <td>50000.0</td>\n",
       "      <td>Fully Paid</td>\n",
       "      <td>9.0</td>\n",
       "      <td>0.0</td>\n",
       "    </tr>\n",
       "  </tbody>\n",
       "</table>\n",
       "</div>"
      ],
      "text/plain": [
       "         loan_amnt  int_rate  annual_inc  loan_status  open_acc  open_il_12m\n",
       "70642        12000     10.33    115000.0      Current      10.0          2.0\n",
       "490788       20000     11.99     19200.0      Current       9.0          0.0\n",
       "2081591      35000     18.25    153619.0  Charged Off      27.0          NaN\n",
       "900431        8000      7.99     67000.0   Fully Paid      10.0          1.0\n",
       "781582       17000      9.16     50000.0   Fully Paid       9.0          0.0"
      ]
     },
     "execution_count": 2,
     "metadata": {},
     "output_type": "execute_result"
    }
   ],
   "source": [
    "use_cols = ['loan_amnt', 'int_rate', 'annual_inc', 'open_acc', 'loan_status', 'open_il_12m']\n",
    "df=pd.read_csv('loan.csv', usecols=use_cols).sample(10000, random_state=44)\n",
    "df.head()"
   ]
  },
  {
   "cell_type": "markdown",
   "metadata": {},
   "source": [
    "# Continous Numerical Varible"
   ]
  },
  {
   "cell_type": "markdown",
   "metadata": {},
   "source": [
    "### Exploring Numerical variable Loan_amnt"
   ]
  },
  {
   "cell_type": "code",
   "execution_count": 3,
   "metadata": {},
   "outputs": [
    {
     "data": {
      "text/plain": [
       "array([12000, 20000, 35000,  8000, 17000, 14000, 10000, 40000,  9000,\n",
       "       16000, 15000,  1500, 22000,  4000, 12800, 17100,  6600, 16250,\n",
       "        3575,  6000, 10200,  3825, 21600,  7000, 10925,  4800, 25000,\n",
       "       18325, 15025,  7150,  9600,  8400,  7500, 16125,  2000, 28100,\n",
       "       29000,  6400, 22800, 20800, 11325,  5000,  8575, 19125, 30400,\n",
       "        2800, 11875,  3600,  8500,  9800, 21000, 30800, 27225,  1450,\n",
       "       36000,  3500, 22650, 23550,  3300, 19200, 34975, 14400,  4475,\n",
       "        2300, 24000, 11000, 30000,  5400, 10400,  8850, 12375, 13600,\n",
       "       24875, 36425,  2400, 15600, 18900,  9875, 28000, 15225, 18000,\n",
       "        7200,  2500, 13975, 11075, 10975, 19000,  3200,  4500, 11200,\n",
       "       13000, 18500, 14125,  7325, 16800, 22150,  2700, 21900,  4900,\n",
       "        8250,  9500,  3000, 27625,  1600, 32000, 13550, 10550, 23000,\n",
       "       21550, 13500, 32350, 20875, 14925, 19500, 11150, 17025,  7800,\n",
       "        1200, 10050, 21100,  8725, 10850, 13200, 20700, 26000, 19600,\n",
       "       11500,  1000,  6350, 27125,  8800, 15375, 18775,  7250, 23025,\n",
       "       13150, 13100, 28500, 34500,  4200, 17250, 18625, 22525, 17625,\n",
       "        3875, 26750,  9175,  9350, 14500, 11550, 11575, 14250,  1800,\n",
       "       32675, 27000, 28775,  5200, 26875, 10800, 11525, 11975,  6025,\n",
       "        8875, 21275, 29325, 12500, 17500, 14375, 15950, 10150, 14425,\n",
       "       30375, 12325, 13450, 15875,  4775,  5500, 31300, 17775,  3400,\n",
       "       34625, 16725, 23225,  1400,  9450, 15350,  5300, 25050,  6100,\n",
       "       14850, 12175,  8775,  9525,  4600, 14550,  6625,  5600,  7550,\n",
       "        3700,  2200, 19950,  6800,  9725, 18950, 27400,  9200, 13825,\n",
       "        5275, 11800,  3650, 15075, 24900, 14975, 39150, 34000, 19925,\n",
       "       12525,  9750,  6500,  9125, 37000, 19525, 14900,  8375, 16500,\n",
       "       10075,  5950, 13075,  5725, 11300,  2900, 29175, 26025, 26600,\n",
       "        7925, 21525, 21850, 24025, 12925, 23100, 25200, 14700, 28975,\n",
       "       28350,  2975, 12300, 31000, 19300,  3750,  5250,  8075, 26400,\n",
       "       10575,  6150, 15100, 11625,  9025,  7900,  3625, 19250,  2750,\n",
       "       33525,  5425, 16375,  9100, 25475,  8100,  5225, 16200,  9925,\n",
       "       21325, 29275, 38000, 18225,  2425,  8650,  5775, 13900, 10725,\n",
       "        6550, 19800, 24950, 20725, 28800, 19350, 19850, 10450, 37950,\n",
       "       35125, 19975, 16100, 25500, 12600,  1700,  2950, 20200,  1675,\n",
       "       15125, 16750, 21200,  2650,  6900, 10500, 22450, 33750,  3100,\n",
       "       20575, 15400, 15925, 15450, 39425, 12950, 13475, 10625,  8975,\n",
       "        5800, 15500,  4400, 13575, 23300,  5325,  7050, 12075, 21975,\n",
       "        7125,  6300, 10025, 28250, 24600, 24075, 19750, 10125,  7375,\n",
       "        6700,  3250,  4850, 14300, 23200, 19050, 26500, 14725,  7600,\n",
       "       20350, 24500, 18875, 15550, 10600, 17150, 23250, 21750, 33000,\n",
       "       15175, 26700, 30500, 14775,  4050, 21250, 22400,  3925,  3025,\n",
       "       14575,  4150, 21650, 26550, 19475, 11700,  5900, 34800,  4125,\n",
       "       27050,  4375,  7675,  4725, 33425, 12200, 35500, 18725,  7700,\n",
       "       18300, 18600,  9900,  8900, 12700,  8050,  9150, 23950, 13675,\n",
       "       12225, 22750, 26050, 17050, 13225, 26975, 22575,  4950,  4525,\n",
       "        2600, 21725,  9300, 22500, 15800, 11275, 11400, 30675, 33025,\n",
       "        4700,  8675, 29825, 19725, 10375, 28550, 17600, 13250, 37500,\n",
       "        2050, 21475,  1425,  1350,  8200, 25600, 10250, 18050, 26375,\n",
       "        6850, 28950, 33325, 24475, 17200, 21500,  4625, 20400, 28425,\n",
       "       25750, 13350,  6725, 34925, 14825, 18925, 17700, 11850, 27600,\n",
       "       33825, 24375, 14225,  6650, 28475, 15675, 29900, 17925, 17975,\n",
       "       20500, 17225, 24200, 37250, 29800, 16175, 12400, 27675, 13125,\n",
       "       11250, 18275, 27950,  1825, 21825,  6675,  8350,  8700, 18250,\n",
       "        3150,  5100, 21425, 29700,  3525,  8325, 12025, 15525,  8825,\n",
       "       14050,  3675,  7750, 12675, 33500,  6950, 20925,  4750,  4275,\n",
       "        4350, 22200, 26850, 22475, 17950,  6250, 26800, 12625, 30750,\n",
       "       20425,  5125,  9825, 32550,  4300, 14150, 16425, 31900, 17350,\n",
       "       23800, 31200,  7450,  4650, 14100,  2100,  1300, 33600, 18450,\n",
       "       29500, 24850, 17650, 17450, 13925, 25400, 25900, 20175,  4250,\n",
       "        5925, 14025, 18550,  8275, 23075, 29600,  3475, 13800, 10875,\n",
       "        7075, 39075, 14950, 25775, 18200, 24125,  7475, 20750, 20125,\n",
       "       10300,  8600, 16450, 23825, 27500, 11350,  8125, 28300, 20450,\n",
       "        6225, 18825, 19650, 20300,  5750, 17425,  3800, 15750, 15200,\n",
       "       11900, 11125, 15850, 24650,  5575, 21950, 33575, 12750, 30600,\n",
       "       32875, 27300, 20675, 12725, 34475, 31050, 25300, 18125,  6325,\n",
       "        5050, 18675, 12050, 23500, 25450,  3225, 15250, 27200, 15050,\n",
       "        4325, 17400,  9700, 10325, 31500, 25250,  3900, 10100,  4575,\n",
       "        8425, 13700, 16525, 28200,  5875, 17275, 21375,  7025, 31600,\n",
       "       25875, 29750, 31475, 12100, 23400, 30150, 23600,  5825, 30350,\n",
       "        5675, 13275, 23850, 13875, 16550, 25975, 33775, 27550,  4825,\n",
       "       20600,  6175, 14325, 12850,  5350,  3725, 22675, 23050, 28625,\n",
       "        6825, 35100,  1100, 13775, 24150,  1950, 11600, 14600, 10175,\n",
       "        2850, 12825, 13375,  7850, 33950, 19575, 19875, 24800, 16075,\n",
       "       23750, 14475, 12575,  5150,  4175, 16600, 11825, 34250, 23450,\n",
       "       12275,  7425, 24350,  6475,  5650, 32200, 14675,  9325, 39475,\n",
       "       31800, 31450,  7225, 13050, 32825, 23700, 24925, 13950, 29375,\n",
       "       18400,  8550,  2725, 36350,  9950, 25375, 12975, 28175, 23725,\n",
       "       22425, 34900, 34200, 20075, 17125,  5375,  6075, 21125, 19275,\n",
       "       15825,  6425,  5975, 17525, 31575, 11750, 32150, 16300, 32975,\n",
       "        3125, 21075,  6375, 25100, 28900, 29400,  6200, 32500, 23425,\n",
       "        9400, 29075, 25850, 20850,  9250, 32425,  7525, 11025,  2825,\n",
       "       12475, 35450,  8750,  7400, 20225,  4100, 30225,  9575, 16700,\n",
       "        6525, 22875, 13750, 29450, 10475,  8925, 20275, 22075, 24750,\n",
       "        8225, 25150, 15625,  7275, 15300, 12150, 18350, 21350, 21450,\n",
       "        1050,  4225, 34350, 17850,  2250,  1125, 22100, 30475,  5700,\n",
       "       15975, 30725, 16950, 16150, 30125, 10750, 27525, 36550, 23275,\n",
       "       14525, 27175, 26150, 16975, 27475, 12775, 25325, 23375, 22125,\n",
       "       27650, 24575, 10775, 16900, 27325,  3075, 26225, 16275, 19700,\n",
       "       24450, 26325, 11950, 17325,  7350, 26625,  2875, 15475,  1275,\n",
       "       25925, 14750, 14275,  3950, 12250, 23875, 14625, 20975, 20475,\n",
       "       27575, 24625, 24825,  9975, 11675, 24250, 11100, 29975, 31325,\n",
       "       35700, 25800, 17675, 14450,  9850, 11450,  4550, 11425, 25575,\n",
       "        5175, 25725, 16650, 23350, 11650, 16225,  5550, 20775,  4075,\n",
       "        2475,  7875, 13175, 16925, 33400,  4975, 24225, 13400, 13850,\n",
       "       23475, 27925, 32475, 35400, 17900,  7975,  2125, 15150, 13425,\n",
       "       22250, 21150, 10900], dtype=int64)"
      ]
     },
     "execution_count": 3,
     "metadata": {},
     "output_type": "execute_result"
    }
   ],
   "source": [
    "df['loan_amnt'].unique()"
   ]
  },
  {
   "cell_type": "code",
   "execution_count": 4,
   "metadata": {},
   "outputs": [
    {
     "data": {
      "text/plain": [
       "Text(0, 0.5, 'Counts')"
      ]
     },
     "execution_count": 4,
     "metadata": {},
     "output_type": "execute_result"
    },
    {
     "data": {
      "image/png": "[encoded data removed]",
      "text/plain": [
       "<Figure size 432x288 with 1 Axes>"
      ]
     },
     "metadata": {
      "needs_background": "light"
     },
     "output_type": "display_data"
    }
   ],
   "source": [
    "# Ploting Histogram\n",
    "plt.hist(df['loan_amnt'], bins=30)\n",
    "plt.title('Loan Amount')\n",
    "plt.xlabel('Loan Amount')\n",
    "plt.ylabel('Counts')"
   ]
  },
  {
   "cell_type": "markdown",
   "metadata": {},
   "source": [
    "## Observation:\n",
    "\n",
    "The values of the variable vary across the entire range of the variable. This is characteristic of continuous variables.\n",
    "\n",
    "The taller bars correspond to loan sizes of 10000, 15000, 20000, and 35000. There are more loans disbursed for those loan amount values. This indicates that most people tend to ask for these loan amounts. Likely, these particular loan amounts are pre-determined and offered as such in the Lending Club website.\n",
    "\n",
    "Less frequent loan values, like 23,000 or 33,000 could be requested by people who require a specific amount of money for a definite purpose."
   ]
  },
  {
   "cell_type": "code",
   "execution_count": 5,
   "metadata": {},
   "outputs": [
    {
     "data": {
      "text/plain": [
       "Text(0, 0.5, 'Counts')"
      ]
     },
     "execution_count": 5,
     "metadata": {},
     "output_type": "execute_result"
    },
    {
     "data": {
      "image/png": "[encoded data removed]",
      "text/plain": [
       "<Figure size 432x288 with 1 Axes>"
      ]
     },
     "metadata": {
      "needs_background": "light"
     },
     "output_type": "display_data"
    }
   ],
   "source": [
    "# Ploting Histogram\n",
    "plt.hist(df['int_rate'], bins=30)\n",
    "plt.title('Interest Rate')\n",
    "plt.xlabel('Interest Rate')\n",
    "plt.ylabel('Counts')"
   ]
  },
  {
   "cell_type": "code",
   "execution_count": 6,
   "metadata": {},
   "outputs": [
    {
     "data": {
      "text/plain": [
       "(0, 400000)"
      ]
     },
     "execution_count": 6,
     "metadata": {},
     "output_type": "execute_result"
    },
    {
     "data": {
      "image/png": "[encoded data removed]",
      "text/plain": [
       "<Figure size 432x288 with 1 Axes>"
      ]
     },
     "metadata": {
      "needs_background": "light"
     },
     "output_type": "display_data"
    }
   ],
   "source": [
    "# Ploting Histogram\n",
    "plt.hist(df['annual_inc'], bins=50)\n",
    "plt.title('Annual Income')\n",
    "plt.xlabel('Annual Income')\n",
    "plt.ylabel('Counts')\n",
    "plt.xlim(0,400000)"
   ]
  },
  {
   "cell_type": "markdown",
   "metadata": {},
   "source": [
    "# Discrete Numerical variable "
   ]
  },
  {
   "cell_type": "code",
   "execution_count": 7,
   "metadata": {},
   "outputs": [
    {
     "data": {
      "text/plain": [
       "array([10.,  9., 27., 12.,  5., 19., 11., 14.,  8., 24., 15.,  7., 26.,\n",
       "       22., 18., 21., 16., 17., 25., 23.,  4.,  6., 30.,  3., 31., 13.,\n",
       "       28., 20., 29., 37.,  1., 35., 36., 44.,  2., 34., 39., 33., 32.,\n",
       "       38., 40., 47., 46., 48., 43.,  0., 56., 42.])"
      ]
     },
     "execution_count": 7,
     "metadata": {},
     "output_type": "execute_result"
    }
   ],
   "source": [
    "df.open_acc.unique()"
   ]
  },
  {
   "cell_type": "code",
   "execution_count": 8,
   "metadata": {},
   "outputs": [
    {
     "data": {
      "text/plain": [
       "(0, 30)"
      ]
     },
     "execution_count": 8,
     "metadata": {},
     "output_type": "execute_result"
    },
    {
     "data": {
      "image/png": "[encoded data removed]",
      "text/plain": [
       "<Figure size 1080x576 with 1 Axes>"
      ]
     },
     "metadata": {
      "needs_background": "light"
     },
     "output_type": "display_data"
    }
   ],
   "source": [
    "# Ploting Histogram for descrete variable\n",
    "plt.figure(figsize=(15,8))\n",
    "plt.hist(df['open_acc'], bins=100)\n",
    "plt.title('Number of Open Accts')\n",
    "plt.xlabel('Number of Open Accts')\n",
    "plt.ylabel('Counts')\n",
    "plt.xlim(0,30)"
   ]
  },
  {
   "cell_type": "code",
   "execution_count": 9,
   "metadata": {},
   "outputs": [
    {
     "name": "stderr",
     "output_type": "stream",
     "text": [
      "C:\\Users\\Pramod.Gupta\\AppData\\Local\\Continuum\\anaconda3\\lib\\site-packages\\numpy\\lib\\histograms.py:824: RuntimeWarning: invalid value encountered in greater_equal\n",
      "  keep = (tmp_a >= first_edge)\n",
      "C:\\Users\\Pramod.Gupta\\AppData\\Local\\Continuum\\anaconda3\\lib\\site-packages\\numpy\\lib\\histograms.py:825: RuntimeWarning: invalid value encountered in less_equal\n",
      "  keep &= (tmp_a <= last_edge)\n"
     ]
    },
    {
     "data": {
      "text/plain": [
       "Text(0, 0.5, 'Counts')"
      ]
     },
     "execution_count": 9,
     "metadata": {},
     "output_type": "execute_result"
    },
    {
     "data": {
      "image/png": "[encoded data removed]",
      "text/plain": [
       "<Figure size 1080x576 with 1 Axes>"
      ]
     },
     "metadata": {
      "needs_background": "light"
     },
     "output_type": "display_data"
    }
   ],
   "source": [
    "# Ploting Histogram for descrete variable\n",
    "plt.figure(figsize=(15,8))\n",
    "plt.hist(df['open_il_12m'], bins=100)\n",
    "plt.title('Number of installment accounts opened in past 12 months')\n",
    "plt.xlabel('NNumber of installment accounts opened in past 12 months')\n",
    "plt.ylabel('Counts')\n"
   ]
  },
  {
   "cell_type": "markdown",
   "metadata": {},
   "source": [
    "# Discrete Binary Variable"
   ]
  },
  {
   "cell_type": "code",
   "execution_count": 10,
   "metadata": {},
   "outputs": [
    {
     "data": {
      "text/plain": [
       "array(['Current', 'Charged Off', 'Fully Paid',\n",
       "       'Does not meet the credit policy. Status:Fully Paid',\n",
       "       'Late (16-30 days)', 'Late (31-120 days)', 'In Grace Period',\n",
       "       'Does not meet the credit policy. Status:Charged Off'],\n",
       "      dtype=object)"
      ]
     },
     "execution_count": 10,
     "metadata": {},
     "output_type": "execute_result"
    }
   ],
   "source": [
    "df.loan_status.unique()"
   ]
  },
  {
   "cell_type": "code",
   "execution_count": 11,
   "metadata": {},
   "outputs": [],
   "source": [
    "df['Charged_Off']=np.where(df.loan_status.isin(['Does not meet the credit policy. Status:Charged Off']),1,0)"
   ]
  },
  {
   "cell_type": "code",
   "execution_count": 12,
   "metadata": {},
   "outputs": [
    {
     "data": {
      "text/html": [
       "<div>\n",
       "<style scoped>\n",
       "    .dataframe tbody tr th:only-of-type {\n",
       "        vertical-align: middle;\n",
       "    }\n",
       "\n",
       "    .dataframe tbody tr th {\n",
       "        vertical-align: top;\n",
       "    }\n",
       "\n",
       "    .dataframe thead th {\n",
       "        text-align: right;\n",
       "    }\n",
       "</style>\n",
       "<table border=\"1\" class=\"dataframe\">\n",
       "  <thead>\n",
       "    <tr style=\"text-align: right;\">\n",
       "      <th></th>\n",
       "      <th>loan_amnt</th>\n",
       "      <th>int_rate</th>\n",
       "      <th>annual_inc</th>\n",
       "      <th>loan_status</th>\n",
       "      <th>open_acc</th>\n",
       "      <th>open_il_12m</th>\n",
       "      <th>Charged_Off</th>\n",
       "    </tr>\n",
       "  </thead>\n",
       "  <tbody>\n",
       "    <tr>\n",
       "      <td>70642</td>\n",
       "      <td>12000</td>\n",
       "      <td>10.33</td>\n",
       "      <td>115000.0</td>\n",
       "      <td>Current</td>\n",
       "      <td>10.0</td>\n",
       "      <td>2.0</td>\n",
       "      <td>0</td>\n",
       "    </tr>\n",
       "    <tr>\n",
       "      <td>490788</td>\n",
       "      <td>20000</td>\n",
       "      <td>11.99</td>\n",
       "      <td>19200.0</td>\n",
       "      <td>Current</td>\n",
       "      <td>9.0</td>\n",
       "      <td>0.0</td>\n",
       "      <td>0</td>\n",
       "    </tr>\n",
       "    <tr>\n",
       "      <td>2081591</td>\n",
       "      <td>35000</td>\n",
       "      <td>18.25</td>\n",
       "      <td>153619.0</td>\n",
       "      <td>Charged Off</td>\n",
       "      <td>27.0</td>\n",
       "      <td>NaN</td>\n",
       "      <td>0</td>\n",
       "    </tr>\n",
       "    <tr>\n",
       "      <td>900431</td>\n",
       "      <td>8000</td>\n",
       "      <td>7.99</td>\n",
       "      <td>67000.0</td>\n",
       "      <td>Fully Paid</td>\n",
       "      <td>10.0</td>\n",
       "      <td>1.0</td>\n",
       "      <td>0</td>\n",
       "    </tr>\n",
       "    <tr>\n",
       "      <td>781582</td>\n",
       "      <td>17000</td>\n",
       "      <td>9.16</td>\n",
       "      <td>50000.0</td>\n",
       "      <td>Fully Paid</td>\n",
       "      <td>9.0</td>\n",
       "      <td>0.0</td>\n",
       "      <td>0</td>\n",
       "    </tr>\n",
       "  </tbody>\n",
       "</table>\n",
       "</div>"
      ],
      "text/plain": [
       "         loan_amnt  int_rate  annual_inc  loan_status  open_acc  open_il_12m  \\\n",
       "70642        12000     10.33    115000.0      Current      10.0          2.0   \n",
       "490788       20000     11.99     19200.0      Current       9.0          0.0   \n",
       "2081591      35000     18.25    153619.0  Charged Off      27.0          NaN   \n",
       "900431        8000      7.99     67000.0   Fully Paid      10.0          1.0   \n",
       "781582       17000      9.16     50000.0   Fully Paid       9.0          0.0   \n",
       "\n",
       "         Charged_Off  \n",
       "70642              0  \n",
       "490788             0  \n",
       "2081591            0  \n",
       "900431             0  \n",
       "781582             0  "
      ]
     },
     "execution_count": 12,
     "metadata": {},
     "output_type": "execute_result"
    }
   ],
   "source": [
    "df.head()"
   ]
  },
  {
   "cell_type": "code",
   "execution_count": 13,
   "metadata": {},
   "outputs": [
    {
     "data": {
      "text/html": [
       "<div>\n",
       "<style scoped>\n",
       "    .dataframe tbody tr th:only-of-type {\n",
       "        vertical-align: middle;\n",
       "    }\n",
       "\n",
       "    .dataframe tbody tr th {\n",
       "        vertical-align: top;\n",
       "    }\n",
       "\n",
       "    .dataframe thead th {\n",
       "        text-align: right;\n",
       "    }\n",
       "</style>\n",
       "<table border=\"1\" class=\"dataframe\">\n",
       "  <thead>\n",
       "    <tr style=\"text-align: right;\">\n",
       "      <th></th>\n",
       "      <th>loan_amnt</th>\n",
       "      <th>int_rate</th>\n",
       "      <th>annual_inc</th>\n",
       "      <th>loan_status</th>\n",
       "      <th>open_acc</th>\n",
       "      <th>open_il_12m</th>\n",
       "      <th>Charged_Off</th>\n",
       "    </tr>\n",
       "  </thead>\n",
       "  <tbody>\n",
       "    <tr>\n",
       "      <td>2140621</td>\n",
       "      <td>8000</td>\n",
       "      <td>12.53</td>\n",
       "      <td>55000.0</td>\n",
       "      <td>Does not meet the credit policy. Status:Charge...</td>\n",
       "      <td>8.0</td>\n",
       "      <td>NaN</td>\n",
       "      <td>1</td>\n",
       "    </tr>\n",
       "    <tr>\n",
       "      <td>2141844</td>\n",
       "      <td>12000</td>\n",
       "      <td>16.28</td>\n",
       "      <td>48000.0</td>\n",
       "      <td>Does not meet the credit policy. Status:Charge...</td>\n",
       "      <td>5.0</td>\n",
       "      <td>NaN</td>\n",
       "      <td>1</td>\n",
       "    </tr>\n",
       "    <tr>\n",
       "      <td>2141687</td>\n",
       "      <td>12000</td>\n",
       "      <td>14.38</td>\n",
       "      <td>81600.0</td>\n",
       "      <td>Does not meet the credit policy. Status:Charge...</td>\n",
       "      <td>15.0</td>\n",
       "      <td>NaN</td>\n",
       "      <td>1</td>\n",
       "    </tr>\n",
       "    <tr>\n",
       "      <td>2141139</td>\n",
       "      <td>7000</td>\n",
       "      <td>16.08</td>\n",
       "      <td>189500.0</td>\n",
       "      <td>Does not meet the credit policy. Status:Charge...</td>\n",
       "      <td>16.0</td>\n",
       "      <td>NaN</td>\n",
       "      <td>1</td>\n",
       "    </tr>\n",
       "  </tbody>\n",
       "</table>\n",
       "</div>"
      ],
      "text/plain": [
       "         loan_amnt  int_rate  annual_inc  \\\n",
       "2140621       8000     12.53     55000.0   \n",
       "2141844      12000     16.28     48000.0   \n",
       "2141687      12000     14.38     81600.0   \n",
       "2141139       7000     16.08    189500.0   \n",
       "\n",
       "                                               loan_status  open_acc  \\\n",
       "2140621  Does not meet the credit policy. Status:Charge...       8.0   \n",
       "2141844  Does not meet the credit policy. Status:Charge...       5.0   \n",
       "2141687  Does not meet the credit policy. Status:Charge...      15.0   \n",
       "2141139  Does not meet the credit policy. Status:Charge...      16.0   \n",
       "\n",
       "         open_il_12m  Charged_Off  \n",
       "2140621          NaN            1  \n",
       "2141844          NaN            1  \n",
       "2141687          NaN            1  \n",
       "2141139          NaN            1  "
      ]
     },
     "execution_count": 13,
     "metadata": {},
     "output_type": "execute_result"
    }
   ],
   "source": [
    "df[df['loan_status']=='Does not meet the credit policy. Status:Charged Off']"
   ]
  },
  {
   "cell_type": "code",
   "execution_count": 14,
   "metadata": {},
   "outputs": [
    {
     "data": {
      "text/plain": [
       "(0, 2)"
      ]
     },
     "execution_count": 14,
     "metadata": {},
     "output_type": "execute_result"
    },
    {
     "data": {
      "image/png": "[encoded data removed]",
      "text/plain": [
       "<Figure size 1080x576 with 1 Axes>"
      ]
     },
     "metadata": {
      "needs_background": "light"
     },
     "output_type": "display_data"
    }
   ],
   "source": [
    "# Ploting Histogram for discrete variable\n",
    "plt.figure(figsize=(15,8))\n",
    "plt.hist(df['Charged_Off'], bins=100)\n",
    "plt.title('Number of Charged_Off')\n",
    "plt.xlabel('Number of Charged_Off')\n",
    "plt.ylabel('Counts')\n",
    "plt.xlim(0,2)"
   ]
  },
  {
   "cell_type": "markdown",
   "metadata": {},
   "source": [
    "### Thanks for Reading"
   ]
  }
 ],
 "metadata": {
  "kernelspec": {
   "display_name": "Python 3",
   "language": "python",
   "name": "python3"
  },
  "language_info": {
   "codemirror_mode": {
    "name": "ipython",
    "version": 3
   },
   "file_extension": ".py",
   "mimetype": "text/x-python",
   "name": "python",
   "nbconvert_exporter": "python",
   "pygments_lexer": "ipython3",
   "version": "3.7.4"
  }
 },
 "nbformat": 4,
 "nbformat_minor": 2
}
